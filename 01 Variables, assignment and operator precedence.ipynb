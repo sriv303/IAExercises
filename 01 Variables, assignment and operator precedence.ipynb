{
  "cells": [
    {
      "cell_type": "markdown",
      "metadata": {
        "tags": [],
        "id": "zeKKBQ4zbWae"
      },
      "source": [
        "# 01 Variables, assigmnent and operator precedence"
      ]
    },
    {
      "cell_type": "markdown",
      "metadata": {
        "id": "K9VjD0SubWai"
      },
      "source": [
        "## Introduction\n",
        "\n",
        "We begin with assignment to variables and familiar mathematical operations.\n",
        "\n",
        "\n",
        "### Objectives\n",
        "\n",
        "- Introduce expressions and basic operators\n",
        "- Introduce operator precedence\n",
        "- Understand variables and assignment"
      ]
    },
    {
      "cell_type": "markdown",
      "metadata": {
        "id": "bja7o0ukbWak"
      },
      "source": [
        "## Evaluating expressions: simple operators\n",
        "\n",
        "We can use Python like a calculator. Consider the simple expression $3 + 8$. We can evaluate and print this by:"
      ]
    },
    {
      "cell_type": "code",
      "execution_count": 2,
      "metadata": {
        "id": "h0eKSKLqbWal",
        "outputId": "f8a9a89f-ddf0-4eff-87e6-604b0a8529a5",
        "colab": {
          "base_uri": "https://localhost:8080/"
        }
      },
      "outputs": [
        {
          "output_type": "execute_result",
          "data": {
            "text/plain": [
              "11"
            ]
          },
          "metadata": {},
          "execution_count": 2
        }
      ],
      "source": [
        "3 + 8"
      ]
    },
    {
      "cell_type": "markdown",
      "metadata": {
        "id": "y8gbdjRtbWan"
      },
      "source": [
        "Another simple calculation is the gravitational potential $V$ of a body of mass $m$ (point mass) at a distance $r$ from a body of mass $M$, which is given by\n",
        "\n",
        "$$\n",
        "V = \\frac{G M m}{r}\n",
        "$$\n",
        "\n",
        "where $G$ is the *gravitational constant*. A good approximation is $G = 6.674 \\times 10^{-11}$ N m$^{2}$ kg$^{-2}$.\n",
        "\n",
        "For the case $M = 1.65 \\times 10^{12}$ kg, $m = 6.1 \\times 10^2$ kg and $r = 7.0 \\times 10^3$ m, we can compute the  gravitational potential $V$:"
      ]
    },
    {
      "cell_type": "code",
      "execution_count": null,
      "metadata": {
        "id": "GMw69Rq7bWaq",
        "outputId": "5813c403-84d7-4491-c159-aa716b74ef61"
      },
      "outputs": [
        {
          "data": {
            "text/plain": [
              "9.59625857142857"
            ]
          },
          "execution_count": 2,
          "metadata": {},
          "output_type": "execute_result"
        }
      ],
      "source": [
        "6.674e-11 * 1.65e12 * 6.1e2 / 7.0e3"
      ]
    },
    {
      "cell_type": "markdown",
      "metadata": {
        "id": "7hWyr0qZbWat"
      },
      "source": [
        "We have used 'scientific notation' to input the values. For example, the number $8 \\times 10^{-2}$ can be input as `0.08` or `8e-2`. We can easily verify that the two are the same via subtraction:"
      ]
    },
    {
      "cell_type": "code",
      "execution_count": null,
      "metadata": {
        "id": "hyxYzBq2bWat",
        "outputId": "21b00cb1-8ec2-4939-e35a-4274955f4c49"
      },
      "outputs": [
        {
          "data": {
            "text/plain": [
              "0.0"
            ]
          },
          "execution_count": 3,
          "metadata": {},
          "output_type": "execute_result"
        }
      ],
      "source": [
        "0.08 - 8e-2"
      ]
    },
    {
      "cell_type": "markdown",
      "metadata": {
        "id": "MZl7nIUNbWaw"
      },
      "source": [
        "A common operation is raising a number to a power. To compute $3^4$:"
      ]
    },
    {
      "cell_type": "code",
      "execution_count": null,
      "metadata": {
        "id": "iaXs-E2VbWaz",
        "outputId": "a95b6d54-1729-4258-e297-b3d663372c5e"
      },
      "outputs": [
        {
          "data": {
            "text/plain": [
              "81"
            ]
          },
          "execution_count": 4,
          "metadata": {},
          "output_type": "execute_result"
        }
      ],
      "source": [
        "3**4"
      ]
    },
    {
      "cell_type": "markdown",
      "metadata": {
        "id": "A3CWZcxVbWa0"
      },
      "source": [
        "The remainder is computed using the modulus operator '`%`':"
      ]
    },
    {
      "cell_type": "code",
      "execution_count": null,
      "metadata": {
        "id": "hCLFTAJ5bWa1",
        "outputId": "82afcec0-f7bb-4ec5-d88d-40264f3112d3"
      },
      "outputs": [
        {
          "data": {
            "text/plain": [
              "2"
            ]
          },
          "execution_count": 5,
          "metadata": {},
          "output_type": "execute_result"
        }
      ],
      "source": [
        "11 % 3"
      ]
    },
    {
      "cell_type": "markdown",
      "metadata": {
        "id": "D13d2wp4bWa2"
      },
      "source": [
        "To get the quotient we use 'floor division', which uses the symbol '`//`':"
      ]
    },
    {
      "cell_type": "code",
      "execution_count": null,
      "metadata": {
        "id": "Cg5-qpeVbWa2",
        "outputId": "bf7c426c-6fda-42c5-b01b-13814e81a31e"
      },
      "outputs": [
        {
          "data": {
            "text/plain": [
              "3"
            ]
          },
          "execution_count": 6,
          "metadata": {},
          "output_type": "execute_result"
        }
      ],
      "source": [
        "11 // 3"
      ]
    },
    {
      "cell_type": "markdown",
      "metadata": {
        "id": "6vveqeWebWa3"
      },
      "source": [
        "## Operator precedence\n",
        "\n",
        "Operator precedence refers to the order in which operations are performed, e.g. multiplication before addition.\n",
        "In the preceding examples, there was no ambiguity as to the order of the operations. However, there are common cases where order does matter, and there are two points to consider:\n",
        "\n",
        "- The expression should be evaluated correctly; and\n",
        "- The expression should be simple enough for someone else reading the code to understand what operation is being\n",
        "  performed.\n",
        "\n",
        "It is possible to write code that is correct, but which might be very difficult for someone else (or you) to check.\n",
        "\n",
        "Most programming languages, including Python, follow the usual mathematical rules for precedence. We explore this through some examples."
      ]
    },
    {
      "cell_type": "markdown",
      "metadata": {
        "id": "m4D1FfV0bWa4"
      },
      "source": [
        "Consider the expression $4 \\cdot (7 - 2) = 20$. If we are careless,"
      ]
    },
    {
      "cell_type": "code",
      "execution_count": null,
      "metadata": {
        "id": "zPka__sPbWa4",
        "outputId": "f521bf19-3625-412e-dcd2-20310f3161e3"
      },
      "outputs": [
        {
          "data": {
            "text/plain": [
              "26"
            ]
          },
          "execution_count": 7,
          "metadata": {},
          "output_type": "execute_result"
        }
      ],
      "source": [
        "4 * 7 - 2"
      ]
    },
    {
      "cell_type": "markdown",
      "metadata": {
        "id": "uaadt5FybWa5"
      },
      "source": [
        "In the above, `4*7` is evaluated first, then `2` is subtracted because multiplication (`*`) comes before subtraction (`-`) in terms of precedence. We can control the order of the operation using brackets, just as we would on paper:"
      ]
    },
    {
      "cell_type": "code",
      "execution_count": null,
      "metadata": {
        "id": "QV-WKR2BbWa5",
        "outputId": "16f20637-4321-4d8c-913a-dade2cfa5dcf"
      },
      "outputs": [
        {
          "data": {
            "text/plain": [
              "20"
            ]
          },
          "execution_count": 8,
          "metadata": {},
          "output_type": "execute_result"
        }
      ],
      "source": [
        "4 * (7 - 2)"
      ]
    },
    {
      "cell_type": "markdown",
      "metadata": {
        "id": "LHOGgwo8bWa6"
      },
      "source": [
        "A common example where readability is a concern is\n",
        "\n",
        "$$\n",
        "\\frac{10}{2 \\times 50} = 0.1\n",
        "$$\n",
        "\n",
        "The code"
      ]
    },
    {
      "cell_type": "code",
      "execution_count": null,
      "metadata": {
        "id": "c5Nqj12wbWa6",
        "outputId": "b9199655-2906-4226-f08f-8d88d547438b"
      },
      "outputs": [
        {
          "data": {
            "text/plain": [
              "250.0"
            ]
          },
          "execution_count": 9,
          "metadata": {},
          "output_type": "execute_result"
        }
      ],
      "source": [
        "10 / 2 * 50"
      ]
    },
    {
      "cell_type": "markdown",
      "metadata": {
        "id": "gecthtbUbWa6"
      },
      "source": [
        "is not consistent with what we wish to compute. Multiplication and division have the same precedence, so the expression is evaluated 'left-to-right'. The correct result is computed from"
      ]
    },
    {
      "cell_type": "code",
      "execution_count": null,
      "metadata": {
        "id": "wNdS5hckbWa7",
        "outputId": "27ab12d9-d5a5-418c-f829-6eea919499c8"
      },
      "outputs": [
        {
          "data": {
            "text/plain": [
              "0.1"
            ]
          },
          "execution_count": 10,
          "metadata": {},
          "output_type": "execute_result"
        }
      ],
      "source": [
        "10 / 2 / 50"
      ]
    },
    {
      "cell_type": "markdown",
      "metadata": {
        "id": "VM3JP1ucbWa8"
      },
      "source": [
        "but this is hard to read and could easily lead to errors in a program. Better is to use brackets to make the order clear:"
      ]
    },
    {
      "cell_type": "code",
      "execution_count": null,
      "metadata": {
        "id": "PkrIa65rbWa8",
        "outputId": "135287f1-75af-46cc-b686-09ced2928b15"
      },
      "outputs": [
        {
          "data": {
            "text/plain": [
              "0.1"
            ]
          },
          "execution_count": 11,
          "metadata": {},
          "output_type": "execute_result"
        }
      ],
      "source": [
        "10 / (2 * 50)"
      ]
    },
    {
      "cell_type": "markdown",
      "metadata": {
        "id": "qNb7y1I2bWa9"
      },
      "source": [
        "Here is an example that computes $2^{3} \\cdot 4 = 32$ which is technically correct but not ideal in terms of readability:"
      ]
    },
    {
      "cell_type": "code",
      "execution_count": null,
      "metadata": {
        "id": "CaPTaId4bWa9",
        "outputId": "211c4889-4486-4e91-aea6-0635f143c428"
      },
      "outputs": [
        {
          "data": {
            "text/plain": [
              "32"
            ]
          },
          "execution_count": 12,
          "metadata": {},
          "output_type": "execute_result"
        }
      ],
      "source": [
        "2 ** 3 * 4"
      ]
    },
    {
      "cell_type": "markdown",
      "metadata": {
        "id": "o_5lPH9-bWa_"
      },
      "source": [
        "Better would be:"
      ]
    },
    {
      "cell_type": "code",
      "execution_count": null,
      "metadata": {
        "id": "80FHRjxXbWbA",
        "outputId": "c4bbff11-f127-4d9d-d189-bf75922dfae1"
      },
      "outputs": [
        {
          "data": {
            "text/plain": [
              "32"
            ]
          },
          "execution_count": 13,
          "metadata": {},
          "output_type": "execute_result"
        }
      ],
      "source": [
        "(2**3) * 4"
      ]
    },
    {
      "cell_type": "markdown",
      "metadata": {
        "id": "5WAI_n4ObWbA"
      },
      "source": [
        "## Variables and assignment\n",
        "\n",
        "The above code snippets were helpful for doing some arithmetic, but we could easily do the same with a pocket calculator. Also, the snippets are not very helpful if we want to change the value of one of the numbers in an expression, and not very helpful if we wanted to use the value of an expression in a subsequent computation. To improve things, we need *assignment*.\n",
        "\n",
        "When we compute something, we usually want to store the result so that we can use it in subsequent computations. *Variables* are what we use to store something, e.g.:"
      ]
    },
    {
      "cell_type": "code",
      "execution_count": null,
      "metadata": {
        "id": "2vMOtIXQbWbB",
        "outputId": "04a51c82-4842-4c21-efa0-1c0c27806435"
      },
      "outputs": [
        {
          "name": "stdout",
          "output_type": "stream",
          "text": [
            "10\n"
          ]
        }
      ],
      "source": [
        "c = 10\n",
        "print(c)"
      ]
    },
    {
      "cell_type": "markdown",
      "metadata": {
        "id": "AtubQ1wQbWbB"
      },
      "source": [
        "Above, the variable `c` is used to 'hold' the value `10`. The *function* `print` is used to print the value of a variable to the output (more on functions later).\n",
        "\n",
        "Say we want to compute $c = a + b$, where $a = 2$ and $b = 11$:"
      ]
    },
    {
      "cell_type": "code",
      "execution_count": null,
      "metadata": {
        "id": "fOZRa-OlbWbC",
        "outputId": "5470b7e1-4ba9-45ff-87bb-c924c99852aa"
      },
      "outputs": [
        {
          "name": "stdout",
          "output_type": "stream",
          "text": [
            "13\n"
          ]
        }
      ],
      "source": [
        "a = 2\n",
        "b = 11\n",
        "c = a + b\n",
        "print(c)"
      ]
    },
    {
      "cell_type": "markdown",
      "metadata": {
        "id": "pIqbP4oGbWbD"
      },
      "source": [
        "What is happening above is that the expression on the right-hand side of the assignment operator '`=`' is evaluated and then stored as the variable on the left-hand side. You can think of the variable as a 'handle' for a value.\n",
        "If we want to change the value of $a$ to $4$ and recompute the sum, we would just replace `a = 2` with `a = 4` and execute the code (try this yourself by running this notebook interactively).\n",
        "\n",
        "The above looks much like standard algebra. There are however some subtle differences. Take for example:"
      ]
    },
    {
      "cell_type": "code",
      "execution_count": null,
      "metadata": {
        "id": "JGqfEDaPbWbE",
        "outputId": "3fd74d2c-5c18-413a-9d6a-37a14e90c59f"
      },
      "outputs": [
        {
          "name": "stdout",
          "output_type": "stream",
          "text": [
            "13\n"
          ]
        }
      ],
      "source": [
        "a = 2\n",
        "b = 11\n",
        "a = a + b\n",
        "print(a)"
      ]
    },
    {
      "cell_type": "markdown",
      "metadata": {
        "id": "yzbYleXSbWbE"
      },
      "source": [
        "This is not a valid algebraic statement since '`a`' appears on both sides of '`=`', but it is a very common statement in a computer program. What happens is that the expression on the right-hand side is evaluated (the values assigned to `a` and `b` are summed), and the result is assigned to the left-hand side (to the variable `a`). There is a mathematical notation for this type of assignment:\n",
        "\n",
        "$$\n",
        "a \\leftarrow a +b\n",
        "$$\n",
        "\n",
        "which says 'sum $a$ and $b$, and copy the result to $a$'. You will see this notation in some books, especially when looking at *algorithms*."
      ]
    },
    {
      "cell_type": "markdown",
      "metadata": {
        "id": "9ZZ27NMgbWbE"
      },
      "source": [
        "### Shortcuts\n",
        "\n",
        "Adding or subtracting variables is such a common operation that most languages provide shortcuts. For addition:"
      ]
    },
    {
      "cell_type": "code",
      "execution_count": null,
      "metadata": {
        "id": "1RwXC5_LbWbF",
        "outputId": "490a0ff4-0886-4e4d-d434-ca28292a8fe1"
      },
      "outputs": [
        {
          "name": "stdout",
          "output_type": "stream",
          "text": [
            "5\n",
            "5\n"
          ]
        }
      ],
      "source": [
        "# Long-hand addition\n",
        "a = 1\n",
        "a = a + 4\n",
        "print(a)\n",
        "\n",
        "# Short-hand addition\n",
        "a = 1\n",
        "a += 4\n",
        "print(a)"
      ]
    },
    {
      "cell_type": "markdown",
      "metadata": {
        "id": "Dr3764nzbWbF"
      },
      "source": [
        "> In Python, any text following the hash (`#`) symbol is a 'comment'. Comments are not executed by the program;\n",
        "> they help us document and explain what our programs do. Use comments in your programs.\n",
        "\n",
        "For subtraction:"
      ]
    },
    {
      "cell_type": "code",
      "execution_count": null,
      "metadata": {
        "id": "gtSnv5MpbWbF",
        "outputId": "cbdab896-4ba4-4757-8346-7b78ed22d168"
      },
      "outputs": [
        {
          "name": "stdout",
          "output_type": "stream",
          "text": [
            "-3\n",
            "-3\n"
          ]
        }
      ],
      "source": [
        "# Long-hand subtraction\n",
        "a = 1\n",
        "b = 4\n",
        "a = a - b\n",
        "print(a)\n",
        "\n",
        "# Short-hand subtraction\n",
        "a = 1\n",
        "b = 4\n",
        "a -= b\n",
        "print(a)"
      ]
    },
    {
      "cell_type": "markdown",
      "metadata": {
        "id": "bwBiObO1bWbG"
      },
      "source": [
        "Analogous assignment operators exist for multiplication and division:"
      ]
    },
    {
      "cell_type": "code",
      "execution_count": null,
      "metadata": {
        "id": "4wbCoqHXbWbG",
        "outputId": "ec86e532-8fd4-4646-fbd5-99db77b35a36"
      },
      "outputs": [
        {
          "name": "stdout",
          "output_type": "stream",
          "text": [
            "20\n",
            "20\n",
            "0.25\n",
            "0.25\n"
          ]
        }
      ],
      "source": [
        "# Long-hand multiplication\n",
        "a = 10\n",
        "c = 2\n",
        "a = c*a\n",
        "print(a)\n",
        "\n",
        "# Short-hand multiplication\n",
        "a = 10\n",
        "c = 2\n",
        "a *= c\n",
        "print(a)\n",
        "\n",
        "# Long-hand division\n",
        "a = 1\n",
        "a = a/4\n",
        "print(a)\n",
        "\n",
        "# Short-hand division\n",
        "a = 1\n",
        "a /= 4\n",
        "print(a)"
      ]
    },
    {
      "cell_type": "markdown",
      "metadata": {
        "id": "139uu2drbWbG"
      },
      "source": [
        "### Naming variables\n",
        "\n",
        "It is good practice to use meaningful variable names in a computer program. Say you used  '`x`' for time, and '`t`' for position, you or someone else will almost certainly make errors at some point.\n",
        "If you do not use well-considered variable names:\n",
        "\n",
        "1. You're much more likely to make errors.\n",
        "1. When you come back to your program after some time you will have trouble recalling and understanding\n",
        "   what the program does.\n",
        "1. It will be difficult for others to understand your program - serious program development is almost always a team effort.\n",
        "\n",
        "Languages have rules for what characters can be used in variable names. As a rough guide, in Python variable names can use letters and digits, but cannot start with a digit.\n",
        "\n",
        "Sometimes for readability it is useful to have variable names that are made up of two words. A convention is\n",
        "to separate the words in the variable name using an underscore '`_`'. For example, a good variable name for storing the number of days would be\n",
        "```python\n",
        "num_days = 10\n",
        "```\n",
        "Python is a case-sensitive language, e.g. the variables '`A`' and '`a`' are different. Some languages, such as\n",
        "Fortran, are case-insensitive.\n",
        "\n",
        "Languages have reserved keywords that cannot be used as variable names as they are used for other purposes. The reserved keywords in Python are:"
      ]
    },
    {
      "cell_type": "code",
      "execution_count": null,
      "metadata": {
        "id": "MPFVHLdGbWbH",
        "outputId": "19270255-ef15-4005-a5b6-8e2202c095a2"
      },
      "outputs": [
        {
          "name": "stdout",
          "output_type": "stream",
          "text": [
            "['False', 'None', 'True', 'and', 'as', 'assert', 'async', 'await', 'break', 'class', 'continue', 'def', 'del', 'elif', 'else', 'except', 'finally', 'for', 'from', 'global', 'if', 'import', 'in', 'is', 'lambda', 'nonlocal', 'not', 'or', 'pass', 'raise', 'return', 'try', 'while', 'with', 'yield']\n"
          ]
        }
      ],
      "source": [
        "import keyword\n",
        "print(keyword.kwlist)"
      ]
    },
    {
      "cell_type": "markdown",
      "metadata": {
        "id": "6QNhLoW2bWbJ"
      },
      "source": [
        "If you try to assign something to a reserved keyword, you will get an error.\n",
        "\n",
        "Python 3 supports Unicode, which allows you to use a very wide range of symbols, including Greek characters:"
      ]
    },
    {
      "cell_type": "code",
      "execution_count": 5,
      "metadata": {
        "id": "EHuVIeXGbWbJ",
        "outputId": "9a9a2dc5-c29d-4ec9-9f18-7cc2c3e9bdc5",
        "colab": {
          "base_uri": "https://localhost:8080/"
        }
      },
      "outputs": [
        {
          "output_type": "stream",
          "name": "stdout",
          "text": [
            "22\n"
          ]
        }
      ],
      "source": [
        "θ = 10\n",
        "α = 12\n",
        "β = θ + α\n",
        "print(β)\n"
      ]
    },
    {
      "cell_type": "markdown",
      "metadata": {
        "id": "4kaHhtZnbWbJ"
      },
      "source": [
        "Greek symbols and other symbols can be input in a Jupyter notebook by typing the LaTeX command for the symbol and then pressing the `tab` key, e.g. '`\\theta`' followed by pressing the `tab` key."
      ]
    },
    {
      "cell_type": "markdown",
      "metadata": {
        "id": "osv3-JfubWbJ"
      },
      "source": [
        "## Tab completion\n",
        "\n",
        "A useful feature when using notebooks is 'tab completion'. Trying using a multi-character variable, then type the first few characters followed by the `tab` key. The full variable name should complete automatically."
      ]
    },
    {
      "cell_type": "markdown",
      "metadata": {
        "id": "45sJNevybWbK"
      },
      "source": [
        "## Exercises\n",
        "\n",
        "Complete now the [01 Exercises](Exercises/01%20Exercises.ipynb) notebook."
      ]
    }
  ],
  "metadata": {
    "kernelspec": {
      "display_name": "Python 3 (ipykernel)",
      "language": "python",
      "name": "python3"
    },
    "language_info": {
      "codemirror_mode": {
        "name": "ipython",
        "version": 3
      },
      "file_extension": ".py",
      "mimetype": "text/x-python",
      "name": "python",
      "nbconvert_exporter": "python",
      "pygments_lexer": "ipython3",
      "version": "3.10.6"
    },
    "toc-autonumbering": true,
    "colab": {
      "provenance": []
    }
  },
  "nbformat": 4,
  "nbformat_minor": 0
}